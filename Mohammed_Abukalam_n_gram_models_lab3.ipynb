{
  "cells": [
    {
      "cell_type": "markdown",
      "metadata": {
        "id": "view-in-github",
        "colab_type": "text"
      },
      "source": [
        "<a href=\"https://colab.research.google.com/github/abokalam/NLP/blob/main/Mohammed_Abukalam_n_gram_models_lab3.ipynb\" target=\"_parent\"><img src=\"https://colab.research.google.com/assets/colab-badge.svg\" alt=\"Open In Colab\"/></a>"
      ]
    },
    {
      "cell_type": "markdown",
      "metadata": {
        "id": "YFoN3G0dzgVf"
      },
      "source": [
        "\n",
        "<h1 style=\"font-family:verdana;font-size:300%;text-align:center;background-color:#f2f2f2;color:#0d0d0d\">AMMI NLP - Review sessions</h1>\n",
        "\n",
        "<h1 style=\"font-family:verdana;font-size:180%;text-align:Center;color:#993333\"> Lab 3: n-gram models </h1>"
      ]
    },
    {
      "cell_type": "markdown",
      "metadata": {
        "id": "jZjD2LCgzgV6"
      },
      "source": [
        "**Big thanks to Amr Khalifa who improved this lab and made it to a Jupyter Notebook!**"
      ]
    },
    {
      "cell_type": "code",
      "execution_count": 1,
      "metadata": {
        "id": "rUP_Y6CRzgV-"
      },
      "outputs": [],
      "source": [
        "import io, sys, math, re\n",
        "from collections import defaultdict\n",
        "import numpy as np"
      ]
    },
    {
      "cell_type": "code",
      "execution_count": 2,
      "metadata": {
        "id": "zClTH85XzgWF"
      },
      "outputs": [],
      "source": [
        "# data_loader\n",
        "def load_data(filename):\n",
        "    '''\n",
        "    parameters:\n",
        "    filename (string): datafile\n",
        "    \n",
        "    Returns:\n",
        "    data (list of lists): each list is a sentence of the text \n",
        "    vocab (dictionary): {word: no of times it appears in the text}\n",
        "    '''\n",
        "    fin = io.open(filename, 'r', encoding='utf-8')\n",
        "    data = []\n",
        "    vocab = defaultdict(lambda:0)\n",
        "    for line in fin:\n",
        "        sentence = line.split()\n",
        "        data.append(sentence)\n",
        "        for word in sentence:\n",
        "            vocab[word] += 1\n",
        "    return data, vocab"
      ]
    },
    {
      "cell_type": "code",
      "execution_count": 3,
      "metadata": {
        "id": "cEj-lJtRzgWK",
        "colab": {
          "base_uri": "https://localhost:8080/"
        },
        "outputId": "bf7b33e8-96cb-407a-a0a1-d1eef88c80a3"
      },
      "outputs": [
        {
          "output_type": "stream",
          "name": "stdout",
          "text": [
            "load training set..\n",
            "\n",
            "\n",
            "['<s>', 'my', 'fathers', \"don't\", 'speak', 'dutch.', '</s>']\n",
            "\n",
            "\n",
            "how : 107\n",
            "load validation set\n"
          ]
        }
      ],
      "source": [
        "\n",
        "print(\"load training set..\")\n",
        "print(\"\\n\")\n",
        "train_data, vocab = load_data(\"/content/sample_data/train1.txt\")\n",
        "print(train_data[0])\n",
        "print(\"\\n\")\n",
        "print(\"how :\",vocab['how'])\n",
        "print(\"load validation set\")\n",
        "valid_data, _ = load_data(\"/content/sample_data/valid1.txt\")\n"
      ]
    },
    {
      "cell_type": "code",
      "execution_count": 4,
      "metadata": {
        "id": "del7LZFJzgWO"
      },
      "outputs": [],
      "source": [
        "def remove_rare_words(data, vocab, mincount = 1):\n",
        "    '''\n",
        "    Parameters:\n",
        "    data (list of lists): each list is a sentence of the text \n",
        "    vocab (dictionary): {word: no of times it appears in the text}\n",
        "    mincount(int): the minimum count \n",
        "    \n",
        "    Returns: \n",
        "    data_with_unk(list of lists): data after replacing rare words with <unk> token\n",
        "    '''\n",
        "    # replace words in data that are not in the vocab \n",
        "    # or have a count that is below mincount\n",
        "    data_with_unk = []\n",
        "\n",
        "    ## FILL CODE\n",
        "    for sentence in data:\n",
        "        sentence_with_unk = []\n",
        "        for word in sentence:\n",
        "            if word in vocab and vocab[word]>mincount:\n",
        "                sentence_with_unk.append(word)\n",
        "            else:\n",
        "                sentence_with_unk.append('<unk>')\n",
        "        data_with_unk.append(sentence_with_unk)\n",
        "    \n",
        "    return data_with_unk"
      ]
    },
    {
      "cell_type": "code",
      "execution_count": 5,
      "metadata": {
        "id": "irDCrYTEzgWT",
        "colab": {
          "base_uri": "https://localhost:8080/"
        },
        "outputId": "fd9cacce-cef8-447b-b920-1fc746b8354a"
      },
      "outputs": [
        {
          "output_type": "stream",
          "name": "stdout",
          "text": [
            "remove rare words\n",
            "['<s>', 'my', '<unk>', \"don't\", 'speak', '<unk>', '</s>']\n"
          ]
        }
      ],
      "source": [
        "print(\"remove rare words\")\n",
        "train_data = remove_rare_words(train_data, vocab, mincount = 1)\n",
        "valid_data = remove_rare_words(valid_data, vocab, mincount = 1)\n",
        "#train_data\n",
        "print(train_data[0])\n"
      ]
    },
    {
      "cell_type": "code",
      "execution_count": 6,
      "metadata": {
        "id": "uYkDu67vzgWV"
      },
      "outputs": [],
      "source": [
        "def build_ngram(data, n):\n",
        "    '''\n",
        "    Parameters:\n",
        "    data (list of lists): each list is a sentence of the text \n",
        "    n (int): size of the n-gram\n",
        "    \n",
        "    Returns:\n",
        "    prob (dictionary of dictionary)\n",
        "    {\n",
        "        context: {word:probability of this word given context}\n",
        "    }\n",
        "    '''\n",
        "    total_number_words = 0\n",
        "    counts = defaultdict(lambda: defaultdict(lambda: 0.0))\n",
        "\n",
        "    for sentence in data:\n",
        "        sentence = tuple(sentence)\n",
        "        ## FILL CODE\n",
        "        # dict can be indexed by tuples\n",
        "        # store in the same dict all the ngrams\n",
        "        # by using the context as a key and the word as a value\n",
        "        for i in range(len(sentence)):\n",
        "            total_number_words +=1\n",
        "            for k in range(n):\n",
        "                if i-k < 0:\n",
        "                    break\n",
        "                counts[sentence[i-k:i]][sentence[i]] +=1 \n",
        "                           \n",
        "\n",
        "    prob = defaultdict(lambda: defaultdict(lambda: 0.0))\n",
        "    # Build the probabilities from the counts\n",
        "    # Be careful with how you normalize!\n",
        "\n",
        "    for context in counts.keys():\n",
        "    ## FILL CODE\n",
        "        denom =0\n",
        "        for w in counts[context].keys():\n",
        "            denom += counts[context][w]\n",
        "        for w in counts[context].keys():\n",
        "            prob[context][w] = counts[context][w]/denom \n",
        "\n",
        "    return prob"
      ]
    },
    {
      "cell_type": "code",
      "execution_count": 7,
      "metadata": {
        "id": "mojEOYCOzgWY",
        "colab": {
          "base_uri": "https://localhost:8080/"
        },
        "outputId": "f6d27fde-46cc-4212-dde2-8c02ebc8dc51"
      },
      "outputs": [
        {
          "output_type": "stream",
          "name": "stdout",
          "text": [
            "build ngram model with n =  2\n"
          ]
        }
      ],
      "source": [
        "# RUN TO BUILD NGRAM MODEL\n",
        "\n",
        "n = 2\n",
        "print(\"build ngram model with n = \", n)\n",
        "model = build_ngram(train_data, n)"
      ]
    },
    {
      "cell_type": "markdown",
      "metadata": {
        "id": "2jiET46ZzgWc"
      },
      "source": [
        "Here, implement a recursive function over shorter and shorter context to compute a \"stupid backoff model\". An interpolation model can also be implemented this way."
      ]
    },
    {
      "cell_type": "code",
      "execution_count": 8,
      "metadata": {
        "id": "FJPCtS9gzgWe"
      },
      "outputs": [],
      "source": [
        "def get_prob(model, context, w):\n",
        "    '''\n",
        "    Parameters: \n",
        "    model (dictionary of dictionary)\n",
        "    {\n",
        "        context: {word:probability of this word given context}\n",
        "    } \n",
        "    context (list of strings): a sentence\n",
        "    w(string): the word we need to find it's probability given the context\n",
        "    \n",
        "    Retunrs:\n",
        "    prob(float): probability of this word given the context \n",
        "    '''\n",
        "\n",
        "    # code a recursive function over \n",
        "    # smaller and smaller context\n",
        "    # to compute the backoff model\n",
        "    \n",
        "    ## FILL CODE\n",
        "    if context in model and w in model[context]:\n",
        "        return model[context][w]\n",
        "    else:\n",
        "        return 0.4*get_prob(model, context[1:], w)"
      ]
    },
    {
      "cell_type": "code",
      "execution_count": 9,
      "metadata": {
        "id": "H9Dg3n8gzgWf"
      },
      "outputs": [],
      "source": [
        "def perplexity(model, data, n):\n",
        "    '''\n",
        "    Parameters: \n",
        "    model (dictionary of dictionary)\n",
        "    {\n",
        "        context: {word:probability of this word given context}\n",
        "    } \n",
        "    data (list of lists): each list is a sentence of the text\n",
        "    n(int): size of the n-gram\n",
        "    \n",
        "    Retunrs:\n",
        "    perp(float): the perplexity of the model \n",
        "    '''\n",
        "    ## FILL CODE\n",
        "    perp, T = 0.0, 0\n",
        "    for sentence in data:\n",
        "        sentence = tuple(sentence)\n",
        "        for i in range(1, len(sentence)):\n",
        "            nc = min(n-1, i)\n",
        "            context = sentence[i-nc:i]\n",
        "            perp += -math.log(get_prob(model, context, sentence[i]))\n",
        "            T += 1\n",
        "    perp = math.exp(perp/T)\n",
        "    return perp"
      ]
    },
    {
      "cell_type": "code",
      "execution_count": 10,
      "metadata": {
        "id": "cNHiYsqQzgWg",
        "colab": {
          "base_uri": "https://localhost:8080/"
        },
        "outputId": "da68943b-0ae3-4f25-d208-632cbc0b1eb5"
      },
      "outputs": [
        {
          "output_type": "stream",
          "name": "stdout",
          "text": [
            "The perplexity is 53.582886955857006\n"
          ]
        }
      ],
      "source": [
        "# COMPUTE PERPLEXITY ON VALIDATION SET\n",
        "\n",
        "print(\"The perplexity is\", perplexity(model, valid_data, n=n))"
      ]
    },
    {
      "cell_type": "code",
      "execution_count": 11,
      "metadata": {
        "id": "yYNbs4Q_zgWh"
      },
      "outputs": [],
      "source": [
        "def get_proba_distrib(model, context):\n",
        "    ## need to get the the words after the context and their probability of appearance\n",
        "    ## after this context \n",
        "    '''\n",
        "    Parameters: \n",
        "    model (dictionary of dictionary)\n",
        "    {\n",
        "        context: {word:probability of this word given context}\n",
        "    }\n",
        "    context (list of strings): the sentence we need to find the words after it and \n",
        "    thier probabilites\n",
        "    \n",
        "    Retunrs:\n",
        "    words_and_probs(dic): {word: probability of word given context}\n",
        "    \n",
        "    '''\n",
        "    # code a recursive function over context\n",
        "    # to find the longest available ngram\n",
        "    \n",
        "    ## FILL CODE\n",
        "    if context in model:\n",
        "        return model[context]\n",
        "    else:\n",
        "        return get_proba_distrib(model, context[1:])"
      ]
    },
    {
      "cell_type": "code",
      "execution_count": 12,
      "metadata": {
        "id": "-zIMzGO9zgWi"
      },
      "outputs": [],
      "source": [
        "def generate(model):\n",
        "    '''\n",
        "    Parameters: \n",
        "    model (dictionary of dictionary)\n",
        "    {\n",
        "        context: {word:probability of this word given context}\n",
        "    }\n",
        "    \n",
        "    Retunrs:\n",
        "    sentence (list of strings): a sentence sampled according to the language model. \n",
        "    \n",
        "\n",
        "    '''\n",
        "    # generate a sentence. A sentence starts with a <s> and ends with a </s>\n",
        "    # Possiblly a use function is:\n",
        "    # np.random.choice(x, 1, p = y)\n",
        "\n",
        "    # where x is a list of things to sample from\n",
        "    # and y is a list of probability (of the same length as x)\n",
        "    sentence = [\"<s>\"]\n",
        "    while sentence[-1] != \"</s>\" and len(sentence)<100:\n",
        "        ## FILL CODE\n",
        "        proba = get_proba_distrib(model, tuple(sentence))\n",
        "        w = np.random.choice((list(proba.keys())), 1, p = list(proba.values()))\n",
        "        sentence.append(w[0])\n",
        "        \n",
        "    return sentence"
      ]
    },
    {
      "cell_type": "code",
      "execution_count": 13,
      "metadata": {
        "id": "gDYSSdL4zgWi",
        "colab": {
          "base_uri": "https://localhost:8080/"
        },
        "outputId": "bb2eaf12-a61a-4cd8-9c2e-d9a68e7a6b8a"
      },
      "outputs": [
        {
          "output_type": "stream",
          "name": "stdout",
          "text": [
            "Generated sentence:  ['<s>', 'neither', 'tom', 'kicked', 'out', 'the', 'right', '<unk>', '</s>']\n"
          ]
        }
      ],
      "source": [
        "# GENERATE A SENTENCE FROM THE MODEL\n",
        "\n",
        "print(\"Generated sentence: \",generate(model))"
      ]
    },
    {
      "cell_type": "markdown",
      "metadata": {
        "id": "8yOoWy0-zgWj"
      },
      "source": [
        "Once you are done implementing the model, evaluation and generation code, you can try changing the value of `n`, and play with a larger training set (`train2.txt` and `valid2.txt`). You can also try to implement an interpolation model."
      ]
    },
    {
      "cell_type": "code",
      "execution_count": null,
      "metadata": {
        "id": "Suxq__jMzgWj"
      },
      "outputs": [],
      "source": [
        ""
      ]
    }
  ],
  "metadata": {
    "kernelspec": {
      "display_name": "Python 3",
      "language": "python",
      "name": "python3"
    },
    "language_info": {
      "codemirror_mode": {
        "name": "ipython",
        "version": 3
      },
      "file_extension": ".py",
      "mimetype": "text/x-python",
      "name": "python",
      "nbconvert_exporter": "python",
      "pygments_lexer": "ipython3",
      "version": "3.6.2+"
    },
    "colab": {
      "name": "Mohammed_Abukalam_n_gram_models_lab3.ipynb",
      "provenance": [],
      "include_colab_link": true
    }
  },
  "nbformat": 4,
  "nbformat_minor": 0
}